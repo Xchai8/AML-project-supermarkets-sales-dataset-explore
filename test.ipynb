{
 "cells": [
  {
   "cell_type": "code",
   "execution_count": 1,
   "id": "ac62700e-6982-4dac-b775-a4039590f502",
   "metadata": {},
   "outputs": [],
   "source": [
    "import numpy as np\n",
    "import pandas as pd\n",
    "import matplotlib.pyplot as plt"
   ]
  },
  {
   "cell_type": "code",
   "execution_count": 2,
   "id": "3f731b7c-b61e-4e6f-b1ce-2e36a4e20351",
   "metadata": {},
   "outputs": [
    {
     "data": {
      "text/html": [
       "<div>\n",
       "<style scoped>\n",
       "    .dataframe tbody tr th:only-of-type {\n",
       "        vertical-align: middle;\n",
       "    }\n",
       "\n",
       "    .dataframe tbody tr th {\n",
       "        vertical-align: top;\n",
       "    }\n",
       "\n",
       "    .dataframe thead th {\n",
       "        text-align: right;\n",
       "    }\n",
       "</style>\n",
       "<table border=\"1\" class=\"dataframe\">\n",
       "  <thead>\n",
       "    <tr style=\"text-align: right;\">\n",
       "      <th></th>\n",
       "      <th>Invoice ID</th>\n",
       "      <th>Branch</th>\n",
       "      <th>City</th>\n",
       "      <th>Customer type</th>\n",
       "      <th>Gender</th>\n",
       "      <th>Product line</th>\n",
       "      <th>Unit price</th>\n",
       "      <th>Quantity</th>\n",
       "      <th>Total</th>\n",
       "      <th>Date</th>\n",
       "      <th>Time</th>\n",
       "      <th>Payment</th>\n",
       "      <th>cogs</th>\n",
       "      <th>gross margin percentage</th>\n",
       "      <th>gross income</th>\n",
       "      <th>Rating</th>\n",
       "    </tr>\n",
       "  </thead>\n",
       "  <tbody>\n",
       "    <tr>\n",
       "      <th>0</th>\n",
       "      <td>750-67-8428</td>\n",
       "      <td>A</td>\n",
       "      <td>Yangon</td>\n",
       "      <td>Member</td>\n",
       "      <td>Female</td>\n",
       "      <td>Health and beauty</td>\n",
       "      <td>74.69</td>\n",
       "      <td>7</td>\n",
       "      <td>548.9715</td>\n",
       "      <td>5</td>\n",
       "      <td>2</td>\n",
       "      <td>Ewallet</td>\n",
       "      <td>522.83</td>\n",
       "      <td>4.761905</td>\n",
       "      <td>26.1415</td>\n",
       "      <td>9.1</td>\n",
       "    </tr>\n",
       "    <tr>\n",
       "      <th>1</th>\n",
       "      <td>226-31-3081</td>\n",
       "      <td>C</td>\n",
       "      <td>Naypyitaw</td>\n",
       "      <td>Normal</td>\n",
       "      <td>Female</td>\n",
       "      <td>Electronic accessories</td>\n",
       "      <td>15.28</td>\n",
       "      <td>5</td>\n",
       "      <td>80.2200</td>\n",
       "      <td>4</td>\n",
       "      <td>1</td>\n",
       "      <td>Cash</td>\n",
       "      <td>76.40</td>\n",
       "      <td>4.761905</td>\n",
       "      <td>3.8200</td>\n",
       "      <td>9.6</td>\n",
       "    </tr>\n",
       "    <tr>\n",
       "      <th>2</th>\n",
       "      <td>631-41-3108</td>\n",
       "      <td>A</td>\n",
       "      <td>Yangon</td>\n",
       "      <td>Normal</td>\n",
       "      <td>Male</td>\n",
       "      <td>Home and lifestyle</td>\n",
       "      <td>46.33</td>\n",
       "      <td>7</td>\n",
       "      <td>340.5255</td>\n",
       "      <td>6</td>\n",
       "      <td>2</td>\n",
       "      <td>Credit card</td>\n",
       "      <td>324.31</td>\n",
       "      <td>4.761905</td>\n",
       "      <td>16.2155</td>\n",
       "      <td>7.4</td>\n",
       "    </tr>\n",
       "    <tr>\n",
       "      <th>3</th>\n",
       "      <td>123-19-1176</td>\n",
       "      <td>A</td>\n",
       "      <td>Yangon</td>\n",
       "      <td>Member</td>\n",
       "      <td>Male</td>\n",
       "      <td>Health and beauty</td>\n",
       "      <td>58.22</td>\n",
       "      <td>8</td>\n",
       "      <td>489.0480</td>\n",
       "      <td>6</td>\n",
       "      <td>4</td>\n",
       "      <td>Ewallet</td>\n",
       "      <td>465.76</td>\n",
       "      <td>4.761905</td>\n",
       "      <td>23.2880</td>\n",
       "      <td>8.4</td>\n",
       "    </tr>\n",
       "    <tr>\n",
       "      <th>4</th>\n",
       "      <td>373-73-7910</td>\n",
       "      <td>A</td>\n",
       "      <td>Yangon</td>\n",
       "      <td>Normal</td>\n",
       "      <td>Male</td>\n",
       "      <td>Sports and travel</td>\n",
       "      <td>86.31</td>\n",
       "      <td>7</td>\n",
       "      <td>634.3785</td>\n",
       "      <td>4</td>\n",
       "      <td>1</td>\n",
       "      <td>Ewallet</td>\n",
       "      <td>604.17</td>\n",
       "      <td>4.761905</td>\n",
       "      <td>30.2085</td>\n",
       "      <td>5.3</td>\n",
       "    </tr>\n",
       "  </tbody>\n",
       "</table>\n",
       "</div>"
      ],
      "text/plain": [
       "    Invoice ID Branch       City Customer type  Gender  \\\n",
       "0  750-67-8428      A     Yangon        Member  Female   \n",
       "1  226-31-3081      C  Naypyitaw        Normal  Female   \n",
       "2  631-41-3108      A     Yangon        Normal    Male   \n",
       "3  123-19-1176      A     Yangon        Member    Male   \n",
       "4  373-73-7910      A     Yangon        Normal    Male   \n",
       "\n",
       "             Product line  Unit price  Quantity     Total  Date  Time  \\\n",
       "0       Health and beauty       74.69         7  548.9715     5     2   \n",
       "1  Electronic accessories       15.28         5   80.2200     4     1   \n",
       "2      Home and lifestyle       46.33         7  340.5255     6     2   \n",
       "3       Health and beauty       58.22         8  489.0480     6     4   \n",
       "4       Sports and travel       86.31         7  634.3785     4     1   \n",
       "\n",
       "       Payment    cogs  gross margin percentage  gross income  Rating  \n",
       "0      Ewallet  522.83                 4.761905       26.1415     9.1  \n",
       "1         Cash   76.40                 4.761905        3.8200     9.6  \n",
       "2  Credit card  324.31                 4.761905       16.2155     7.4  \n",
       "3      Ewallet  465.76                 4.761905       23.2880     8.4  \n",
       "4      Ewallet  604.17                 4.761905       30.2085     5.3  "
      ]
     },
     "execution_count": 2,
     "metadata": {},
     "output_type": "execute_result"
    }
   ],
   "source": [
    "# Load the dataset \n",
    "data_df = pd.read_csv('data.csv')\n",
    "data_df.head()"
   ]
  },
  {
   "cell_type": "code",
   "execution_count": 3,
   "id": "634dae88-a43b-4eb6-8f29-efeb5b864156",
   "metadata": {
    "tags": []
   },
   "outputs": [
    {
     "data": {
      "text/html": [
       "<div>\n",
       "<style scoped>\n",
       "    .dataframe tbody tr th:only-of-type {\n",
       "        vertical-align: middle;\n",
       "    }\n",
       "\n",
       "    .dataframe tbody tr th {\n",
       "        vertical-align: top;\n",
       "    }\n",
       "\n",
       "    .dataframe thead th {\n",
       "        text-align: right;\n",
       "    }\n",
       "</style>\n",
       "<table border=\"1\" class=\"dataframe\">\n",
       "  <thead>\n",
       "    <tr style=\"text-align: right;\">\n",
       "      <th></th>\n",
       "      <th>Unit price</th>\n",
       "      <th>Quantity</th>\n",
       "      <th>Total</th>\n",
       "      <th>cogs</th>\n",
       "      <th>gross income</th>\n",
       "      <th>Rating</th>\n",
       "      <th>Branch A</th>\n",
       "      <th>Branch B</th>\n",
       "      <th>Branch C</th>\n",
       "      <th>Mandalay</th>\n",
       "      <th>...</th>\n",
       "      <th>Sunday</th>\n",
       "      <th>Morning</th>\n",
       "      <th>Afternoon</th>\n",
       "      <th>Evening</th>\n",
       "      <th>Night</th>\n",
       "      <th>Cash</th>\n",
       "      <th>Credit card</th>\n",
       "      <th>Ewallet</th>\n",
       "      <th>Customer type</th>\n",
       "      <th>Gender</th>\n",
       "    </tr>\n",
       "  </thead>\n",
       "  <tbody>\n",
       "    <tr>\n",
       "      <th>0</th>\n",
       "      <td>0.360863</td>\n",
       "      <td>-0.504378</td>\n",
       "      <td>-0.189186</td>\n",
       "      <td>-0.189186</td>\n",
       "      <td>-0.189186</td>\n",
       "      <td>0.430554</td>\n",
       "      <td>1.0</td>\n",
       "      <td>0.0</td>\n",
       "      <td>0.0</td>\n",
       "      <td>0.0</td>\n",
       "      <td>...</td>\n",
       "      <td>0.0</td>\n",
       "      <td>0.0</td>\n",
       "      <td>1.0</td>\n",
       "      <td>0.0</td>\n",
       "      <td>0.0</td>\n",
       "      <td>1.0</td>\n",
       "      <td>0.0</td>\n",
       "      <td>0.0</td>\n",
       "      <td>1.0</td>\n",
       "      <td>0.0</td>\n",
       "    </tr>\n",
       "    <tr>\n",
       "      <th>1</th>\n",
       "      <td>-0.798463</td>\n",
       "      <td>-1.178004</td>\n",
       "      <td>-1.005079</td>\n",
       "      <td>-1.005079</td>\n",
       "      <td>-1.005079</td>\n",
       "      <td>-0.154338</td>\n",
       "      <td>0.0</td>\n",
       "      <td>0.0</td>\n",
       "      <td>1.0</td>\n",
       "      <td>0.0</td>\n",
       "      <td>...</td>\n",
       "      <td>1.0</td>\n",
       "      <td>0.0</td>\n",
       "      <td>1.0</td>\n",
       "      <td>0.0</td>\n",
       "      <td>0.0</td>\n",
       "      <td>0.0</td>\n",
       "      <td>0.0</td>\n",
       "      <td>1.0</td>\n",
       "      <td>1.0</td>\n",
       "      <td>0.0</td>\n",
       "    </tr>\n",
       "    <tr>\n",
       "      <th>2</th>\n",
       "      <td>-0.924559</td>\n",
       "      <td>0.842875</td>\n",
       "      <td>-0.258357</td>\n",
       "      <td>-0.258357</td>\n",
       "      <td>-0.258357</td>\n",
       "      <td>0.430554</td>\n",
       "      <td>0.0</td>\n",
       "      <td>1.0</td>\n",
       "      <td>0.0</td>\n",
       "      <td>1.0</td>\n",
       "      <td>...</td>\n",
       "      <td>1.0</td>\n",
       "      <td>0.0</td>\n",
       "      <td>1.0</td>\n",
       "      <td>0.0</td>\n",
       "      <td>0.0</td>\n",
       "      <td>1.0</td>\n",
       "      <td>0.0</td>\n",
       "      <td>0.0</td>\n",
       "      <td>0.0</td>\n",
       "      <td>1.0</td>\n",
       "    </tr>\n",
       "    <tr>\n",
       "      <th>3</th>\n",
       "      <td>-0.228586</td>\n",
       "      <td>-1.514817</td>\n",
       "      <td>-1.083733</td>\n",
       "      <td>-1.083733</td>\n",
       "      <td>-1.083733</td>\n",
       "      <td>-1.499590</td>\n",
       "      <td>0.0</td>\n",
       "      <td>0.0</td>\n",
       "      <td>1.0</td>\n",
       "      <td>0.0</td>\n",
       "      <td>...</td>\n",
       "      <td>0.0</td>\n",
       "      <td>0.0</td>\n",
       "      <td>1.0</td>\n",
       "      <td>0.0</td>\n",
       "      <td>0.0</td>\n",
       "      <td>1.0</td>\n",
       "      <td>0.0</td>\n",
       "      <td>0.0</td>\n",
       "      <td>1.0</td>\n",
       "      <td>1.0</td>\n",
       "    </tr>\n",
       "    <tr>\n",
       "      <th>4</th>\n",
       "      <td>1.183684</td>\n",
       "      <td>-1.178004</td>\n",
       "      <td>-0.553150</td>\n",
       "      <td>-0.553150</td>\n",
       "      <td>-0.553150</td>\n",
       "      <td>0.723000</td>\n",
       "      <td>0.0</td>\n",
       "      <td>0.0</td>\n",
       "      <td>1.0</td>\n",
       "      <td>0.0</td>\n",
       "      <td>...</td>\n",
       "      <td>0.0</td>\n",
       "      <td>0.0</td>\n",
       "      <td>0.0</td>\n",
       "      <td>1.0</td>\n",
       "      <td>0.0</td>\n",
       "      <td>1.0</td>\n",
       "      <td>0.0</td>\n",
       "      <td>0.0</td>\n",
       "      <td>1.0</td>\n",
       "      <td>1.0</td>\n",
       "    </tr>\n",
       "  </tbody>\n",
       "</table>\n",
       "<p>5 rows × 34 columns</p>\n",
       "</div>"
      ],
      "text/plain": [
       "   Unit price  Quantity     Total      cogs  gross income    Rating  Branch A  \\\n",
       "0    0.360863 -0.504378 -0.189186 -0.189186     -0.189186  0.430554       1.0   \n",
       "1   -0.798463 -1.178004 -1.005079 -1.005079     -1.005079 -0.154338       0.0   \n",
       "2   -0.924559  0.842875 -0.258357 -0.258357     -0.258357  0.430554       0.0   \n",
       "3   -0.228586 -1.514817 -1.083733 -1.083733     -1.083733 -1.499590       0.0   \n",
       "4    1.183684 -1.178004 -0.553150 -0.553150     -0.553150  0.723000       0.0   \n",
       "\n",
       "   Branch B  Branch C  Mandalay  ...  Sunday  Morning  Afternoon  Evening  \\\n",
       "0       0.0       0.0       0.0  ...     0.0      0.0        1.0      0.0   \n",
       "1       0.0       1.0       0.0  ...     1.0      0.0        1.0      0.0   \n",
       "2       1.0       0.0       1.0  ...     1.0      0.0        1.0      0.0   \n",
       "3       0.0       1.0       0.0  ...     0.0      0.0        1.0      0.0   \n",
       "4       0.0       1.0       0.0  ...     0.0      0.0        0.0      1.0   \n",
       "\n",
       "   Night  Cash  Credit card  Ewallet  Customer type  Gender  \n",
       "0    0.0   1.0          0.0      0.0            1.0     0.0  \n",
       "1    0.0   0.0          0.0      1.0            1.0     0.0  \n",
       "2    0.0   1.0          0.0      0.0            0.0     1.0  \n",
       "3    0.0   1.0          0.0      0.0            1.0     1.0  \n",
       "4    0.0   1.0          0.0      0.0            1.0     1.0  \n",
       "\n",
       "[5 rows x 34 columns]"
      ]
     },
     "execution_count": 3,
     "metadata": {},
     "output_type": "execute_result"
    }
   ],
   "source": [
    "# Load the prepared training and test data.\n",
    "train_prepared_df = pd.read_csv('train_prepared.csv')\n",
    "test_prepared_df = pd.read_csv('test_prepared.csv')\n",
    "train_prepared_df.head()"
   ]
  },
  {
   "cell_type": "code",
   "execution_count": 4,
   "id": "56596718-d8e7-4f33-b41f-3eb73a98323a",
   "metadata": {},
   "outputs": [],
   "source": [
    "# Define a function for estimating the performance of model in problem 2,3\n",
    "from sklearn.metrics import r2_score\n",
    "from scipy import stats\n",
    "\n",
    "def evaluator(estimator, X_train, t_train, X_test, t_test, model_name=None, confidence=0.95):\n",
    "    \n",
    "    y_train = estimator.predict(X_train)\n",
    "    y_test = estimator.predict(X_test)\n",
    "    \n",
    "    r2_score_train = r2_score(t_train, y_train)\n",
    "    r2_score_test = r2_score(t_test, y_test)\n",
    "    \n",
    "    t_train_mean = np.ones(len(t_train)) * t_train.mean()\n",
    "    r2_train = (y_train-t_train_mean)**2 / (t_train-t_train_mean)**2\n",
    "    a,b = stats.t.interval(confidence, \n",
    "                           len(r2_train)-1,\n",
    "                           loc = r2_train.mean(),\n",
    "                           scale=r2_train.std(ddof=1)/np.sqrt(len(r2_train)))\n",
    "    \n",
    "    t_test_mean = np.ones(len(t_test)) * t_test.mean()\n",
    "    r2_test = (y_test-t_test_mean)**2 / (t_test-t_test_mean)**2\n",
    "    c,d = stats.t.interval(confidence, \n",
    "                           len(r2_test)-1,\n",
    "                           loc = r2_test.mean(),\n",
    "                           scale=r2_test.std(ddof=1)/np.sqrt(len(r2_test)))\n",
    "    \n",
    "    if model_name:\n",
    "        print(model_name,'\\n---------------------------------')\n",
    "    if a < 1:\n",
    "        print('R2 Train: ', r2_score_train)\n",
    "        print(confidence*100,'% CI Train = [',np.max([0.0, a]),',', np.min([b,1.0]), ']')\n",
    "    else: \n",
    "        print('R2 Train: ', r2_score_train)\n",
    "        print(confidence*100,'% CI Train = [', 0.0,',', np.min([b,1.0]), ']')\n",
    "    if c < 1:\n",
    "        print('\\nR2 Test: ', r2_score_test)\n",
    "        print(confidence*100,'% CI Test = [',np.max([0.0, c]),',', np.min([d,1.0]), ']')\n",
    "    else:\n",
    "        print('\\nR2 Test: ', r2_score_test)\n",
    "        print(confidence*100,'% CI Test = [',0.0,',', np.min([d,1.0]), ']')"
   ]
  },
  {
   "cell_type": "code",
   "execution_count": 5,
   "id": "2c45cfa4-b82b-4272-87e2-d3fff98f16cb",
   "metadata": {},
   "outputs": [],
   "source": [
    "# Problem 2\n",
    "from sklearn.model_selection import train_test_split \n",
    "from scipy import stats\n",
    "\n",
    "X_train = train_prepared_df[['Unit price', 'Quantity',\n",
    "                     'Monday', 'Tuesday', 'Wednesday', 'Thursday', 'Friday', 'Saturday', 'Sunday', \n",
    "                      'Morning', 'Afternoon', 'Evening', 'Night',\n",
    "                      'Electronic accessories', 'Fashion accessories', 'Food and beverages', 'Health and beauty', 'Home and lifestyle', 'Sports and travel']]\n",
    "t_train = train_prepared_df['gross income'].copy()\n",
    "\n",
    "X_test = test_prepared_df[['Unit price', 'Quantity',\n",
    "                     'Monday', 'Tuesday', 'Wednesday', 'Thursday', 'Friday', 'Saturday', 'Sunday', \n",
    "                      'Morning', 'Afternoon', 'Evening', 'Night',\n",
    "                      'Electronic accessories', 'Fashion accessories', 'Food and beverages', 'Health and beauty', 'Home and lifestyle', 'Sports and travel']]\n",
    "t_test = test_prepared_df['gross income'].copy()\n",
    "\n",
    "import joblib  \n",
    "lasso_reg_grid = joblib.load('Model/lasso_reg_grid_problem2.pkl')\n",
    "lasso_reg_random = joblib.load('Model/lasso_reg_random_problem2.pkl')\n",
    "lin_reg = joblib.load('Model/lin_reg_problem2.pkl')"
   ]
  },
  {
   "cell_type": "code",
   "execution_count": 6,
   "id": "c435f4c1-2166-4ce6-ab4f-811f130b674b",
   "metadata": {},
   "outputs": [
    {
     "data": {
      "text/plain": [
       "Index(['Unit price', 'Quantity', 'Monday', 'Tuesday', 'Wednesday', 'Thursday',\n",
       "       'Friday', 'Saturday', 'Sunday', 'Morning', 'Afternoon', 'Evening',\n",
       "       'Night', 'Electronic accessories', 'Fashion accessories',\n",
       "       'Food and beverages', 'Health and beauty', 'Home and lifestyle',\n",
       "       'Sports and travel'],\n",
       "      dtype='object')"
      ]
     },
     "execution_count": 6,
     "metadata": {},
     "output_type": "execute_result"
    }
   ],
   "source": [
    "X_train.columns"
   ]
  },
  {
   "cell_type": "code",
   "execution_count": 7,
   "id": "c21c1b4c-d507-44e9-be11-b765a0db7112",
   "metadata": {},
   "outputs": [
    {
     "data": {
      "text/plain": [
       "array([ 6.23163392e-01,  6.97352438e-01, -1.62126196e-02,  4.29588032e-02,\n",
       "       -7.15379637e-02,  1.21161872e-02,  1.99306635e-03,  3.47831793e-02,\n",
       "       -4.10065284e-03, -1.57533846e-02,  2.87946479e-02,  6.11354589e-04,\n",
       "       -1.36526179e-02, -1.91075367e-02, -9.71178298e-03, -3.07816816e-03,\n",
       "       -4.04793772e-03,  2.07613327e-02,  1.51840928e-02])"
      ]
     },
     "execution_count": 7,
     "metadata": {},
     "output_type": "execute_result"
    }
   ],
   "source": [
    "lin_reg.coef_"
   ]
  },
  {
   "cell_type": "code",
   "execution_count": 8,
   "id": "34f600fc-5114-4a6a-bd0e-98de6a601841",
   "metadata": {},
   "outputs": [
    {
     "name": "stdout",
     "output_type": "stream",
     "text": [
      "0.0049839839839839846 0.0011464268599014138\n"
     ]
    }
   ],
   "source": [
    "print(lasso_reg_grid.alpha, lasso_reg_random.alpha)"
   ]
  },
  {
   "cell_type": "code",
   "execution_count": 9,
   "id": "22e3b979-6707-4c3c-9baf-3c8b73430a76",
   "metadata": {},
   "outputs": [
    {
     "data": {
      "text/plain": [
       "array([ 0.61880945,  0.69234355, -0.        ,  0.00216677, -0.04198473,\n",
       "        0.        , -0.        ,  0.        , -0.        , -0.        ,\n",
       "        0.01551359, -0.        , -0.        , -0.        , -0.        ,\n",
       "       -0.        , -0.        ,  0.        ,  0.        ])"
      ]
     },
     "execution_count": 9,
     "metadata": {},
     "output_type": "execute_result"
    }
   ],
   "source": [
    "lasso_reg_grid.coef_"
   ]
  },
  {
   "cell_type": "code",
   "execution_count": 10,
   "id": "e747fa2f-e4eb-4f24-ab33-61e721cb559f",
   "metadata": {},
   "outputs": [
    {
     "name": "stdout",
     "output_type": "stream",
     "text": [
      "Chosen attributes: ['Unit price', 'Quantity', 'Tuesday', 'Wednesday', 'Afternoon']\n"
     ]
    }
   ],
   "source": [
    "print('Chosen attributes:', list(X_train.columns[np.where(lasso_reg_grid.coef_!=0)]))"
   ]
  },
  {
   "cell_type": "code",
   "execution_count": 11,
   "id": "e03dd259-a181-414b-a304-001051f23e4b",
   "metadata": {},
   "outputs": [
    {
     "data": {
      "text/plain": [
       "array([ 0.62220535,  0.69610654, -0.00972751,  0.03148553, -0.06595331,\n",
       "        0.        , -0.        ,  0.02400221, -0.        , -0.00418361,\n",
       "        0.03210143,  0.        , -0.        , -0.00736841, -0.        ,\n",
       "       -0.        , -0.        ,  0.01553696,  0.01317024])"
      ]
     },
     "execution_count": 11,
     "metadata": {},
     "output_type": "execute_result"
    }
   ],
   "source": [
    "lasso_reg_random.coef_"
   ]
  },
  {
   "cell_type": "code",
   "execution_count": 12,
   "id": "c6acd4fe-0729-4ad8-adf0-2bf34ba2b281",
   "metadata": {},
   "outputs": [
    {
     "name": "stdout",
     "output_type": "stream",
     "text": [
      "Chosen attributes: ['Unit price', 'Quantity', 'Monday', 'Tuesday', 'Wednesday', 'Saturday', 'Morning', 'Afternoon', 'Electronic accessories', 'Home and lifestyle', 'Sports and travel']\n"
     ]
    }
   ],
   "source": [
    "print('Chosen attributes:', list(X_train.columns[np.where(lasso_reg_random.coef_!=0)]))"
   ]
  },
  {
   "cell_type": "code",
   "execution_count": 13,
   "id": "7c6c073b-3b19-4842-a3fb-91de87ab281f",
   "metadata": {
    "tags": []
   },
   "outputs": [
    {
     "name": "stdout",
     "output_type": "stream",
     "text": [
      "Linear regression \n",
      "---------------------------------\n",
      "R2 Train:  0.8834750707163548\n",
      "95.0 % CI Train = [ 0.0 , 1.0 ]\n",
      "\n",
      "R2 Test:  0.9184036960834938\n",
      "95.0 % CI Test = [ 0.0 , 1.0 ]\n"
     ]
    }
   ],
   "source": [
    "evaluator(lin_reg, \n",
    "          X_train, t_train, X_test, t_test, \n",
    "          model_name='Linear regression')"
   ]
  },
  {
   "cell_type": "code",
   "execution_count": 14,
   "id": "d2fb0ad6-9446-4889-840e-95748a149301",
   "metadata": {},
   "outputs": [
    {
     "name": "stdout",
     "output_type": "stream",
     "text": [
      "Lasso regression with grid search CV \n",
      "---------------------------------\n",
      "R2 Train:  0.8825514542674513\n",
      "95.0 % CI Train = [ 0.0 , 1.0 ]\n",
      "\n",
      "R2 Test:  0.9178243426264269\n",
      "95.0 % CI Test = [ 0.0 , 1.0 ]\n"
     ]
    }
   ],
   "source": [
    "evaluator(lasso_reg_grid,\n",
    "         X_train, t_train, X_test, t_test,\n",
    "         model_name='Lasso regression with grid search CV')"
   ]
  },
  {
   "cell_type": "code",
   "execution_count": 15,
   "id": "3e4730c6-695c-4c6b-bb64-e44ba74e6c53",
   "metadata": {},
   "outputs": [
    {
     "name": "stdout",
     "output_type": "stream",
     "text": [
      "Lasso regression with random search CV \n",
      "---------------------------------\n",
      "R2 Train:  0.883361762267308\n",
      "95.0 % CI Train = [ 0.0 , 1.0 ]\n",
      "\n",
      "R2 Test:  0.9184330224353946\n",
      "95.0 % CI Test = [ 0.0 , 1.0 ]\n"
     ]
    }
   ],
   "source": [
    "evaluator(lasso_reg_random,\n",
    "         X_train, t_train, X_test, t_test,\n",
    "         model_name='Lasso regression with random search CV')"
   ]
  },
  {
   "cell_type": "code",
   "execution_count": 16,
   "id": "342a29b7-fb73-45d0-935b-21617904330c",
   "metadata": {},
   "outputs": [],
   "source": [
    "# Problem 3\n",
    "X_train = train_prepared_df[['gross income', 'Quantity',\n",
    "                     'Monday', 'Tuesday', 'Wednesday', 'Thursday', 'Friday', 'Saturday', 'Sunday', \n",
    "                      'Morning', 'Afternoon', 'Evening', 'Night',\n",
    "                      'Electronic accessories', 'Fashion accessories', 'Food and beverages', 'Health and beauty', 'Home and lifestyle', 'Sports and travel']]\n",
    "t_train = train_prepared_df['Unit price'].copy()\n",
    "\n",
    "X_test = test_prepared_df[['gross income', 'Quantity',\n",
    "                     'Monday', 'Tuesday', 'Wednesday', 'Thursday', 'Friday', 'Saturday', 'Sunday', \n",
    "                      'Morning', 'Afternoon', 'Evening', 'Night',\n",
    "                      'Electronic accessories', 'Fashion accessories', 'Food and beverages', 'Health and beauty', 'Home and lifestyle', 'Sports and travel']]\n",
    "t_test = test_prepared_df['Unit price'].copy()\n",
    "\n",
    "lasso_reg_grid = joblib.load('Model/lasso_reg_grid_problem3.pkl')\n",
    "lasso_reg_random = joblib.load('Model/lasso_reg_random_problem3.pkl')\n",
    "lin_reg = joblib.load('Model/lin_reg_problem3.pkl')\n"
   ]
  },
  {
   "cell_type": "code",
   "execution_count": 17,
   "id": "196ba503-e336-4164-a7bd-c5c6a978edbc",
   "metadata": {},
   "outputs": [
    {
     "name": "stdout",
     "output_type": "stream",
     "text": [
      "0.006179179179179179 0.0011464268599014138\n"
     ]
    }
   ],
   "source": [
    "print(lasso_reg_grid.alpha, lasso_reg_random.alpha)"
   ]
  },
  {
   "cell_type": "code",
   "execution_count": 18,
   "id": "ba0beffe-7f21-48c0-bc83-2549081ea390",
   "metadata": {},
   "outputs": [
    {
     "data": {
      "text/plain": [
       "array([ 1.20935263, -0.83554884,  0.        , -0.02764027,  0.02599505,\n",
       "        0.        ,  0.        , -0.        , -0.        ,  0.        ,\n",
       "       -0.01699372, -0.        ,  0.        ,  0.        ,  0.        ,\n",
       "        0.        , -0.        , -0.        , -0.        ])"
      ]
     },
     "execution_count": 18,
     "metadata": {},
     "output_type": "execute_result"
    }
   ],
   "source": [
    "lasso_reg_grid.coef_"
   ]
  },
  {
   "cell_type": "code",
   "execution_count": 19,
   "id": "5e55eb8a-3f92-4ace-b706-0cb588399656",
   "metadata": {},
   "outputs": [
    {
     "name": "stdout",
     "output_type": "stream",
     "text": [
      "Chosen attributes: ['gross income', 'Quantity', 'Tuesday', 'Wednesday', 'Afternoon']\n"
     ]
    }
   ],
   "source": [
    "print('Chosen attributes:', list(X_train.columns[np.where(lasso_reg_grid.coef_!=0)]))"
   ]
  },
  {
   "cell_type": "code",
   "execution_count": 20,
   "id": "3691511c-c310-4923-9a9f-d576ea746343",
   "metadata": {},
   "outputs": [
    {
     "data": {
      "text/plain": [
       "array([ 1.22757406e+00, -8.52972167e-01,  2.07671239e-02, -6.20961511e-02,\n",
       "        6.43145816e-02,  1.02773635e-03, -0.00000000e+00, -1.93877445e-02,\n",
       "       -2.22687587e-03,  1.71912842e-02, -3.00074200e-02, -7.18395537e-03,\n",
       "        2.56114205e-02,  0.00000000e+00,  1.58604529e-02,  0.00000000e+00,\n",
       "       -1.15205519e-02, -1.56218711e-02, -0.00000000e+00])"
      ]
     },
     "execution_count": 20,
     "metadata": {},
     "output_type": "execute_result"
    }
   ],
   "source": [
    "lasso_reg_random.coef_"
   ]
  },
  {
   "cell_type": "code",
   "execution_count": 21,
   "id": "d8efe1d4-247b-4ebc-ac39-648fbabd1e3b",
   "metadata": {},
   "outputs": [
    {
     "name": "stdout",
     "output_type": "stream",
     "text": [
      "Chosen attribute: ['gross income', 'Quantity', 'Monday', 'Tuesday', 'Wednesday', 'Thursday', 'Saturday', 'Sunday', 'Morning', 'Afternoon', 'Evening', 'Night', 'Fashion accessories', 'Health and beauty', 'Home and lifestyle']\n"
     ]
    }
   ],
   "source": [
    "print('Chosen attribute:', list(X_train.columns[np.where(lasso_reg_random.coef_!=0)]))"
   ]
  },
  {
   "cell_type": "code",
   "execution_count": 22,
   "id": "c7b7fe75-bdb9-4b95-8dee-a12c4d9491b0",
   "metadata": {},
   "outputs": [
    {
     "name": "stdout",
     "output_type": "stream",
     "text": [
      "Linear regression \n",
      "---------------------------------\n",
      "R2 Train:  0.7697090728907201\n",
      "95.0 % CI Train = [ 0.0 , 1.0 ]\n",
      "\n",
      "R2 Test:  0.8310620341650173\n",
      "95.0 % CI Test = [ 0.8183054178147322 , 1.0 ]\n"
     ]
    }
   ],
   "source": [
    "evaluator(lin_reg, \n",
    "         X_train, t_train, X_test, t_test,\n",
    "         model_name='Linear regression')"
   ]
  },
  {
   "cell_type": "code",
   "execution_count": 23,
   "id": "0ed59fb5-57c2-403c-8588-336266f2b986",
   "metadata": {
    "tags": []
   },
   "outputs": [
    {
     "name": "stdout",
     "output_type": "stream",
     "text": [
      "Lasso regression with grid search CV \n",
      "---------------------------------\n",
      "R2 Train:  0.7680327797107569\n",
      "95.0 % CI Train = [ 0.7100464947098096 , 0.8925953558155383 ]\n",
      "\n",
      "R2 Test:  0.8298650580097549\n",
      "95.0 % CI Test = [ 0.8041882548611315 , 1.0 ]\n"
     ]
    }
   ],
   "source": [
    "evaluator(lasso_reg_grid,\n",
    "         X_train, t_train, X_test, t_test,\n",
    "         model_name='Lasso regression with grid search CV')"
   ]
  },
  {
   "cell_type": "code",
   "execution_count": 24,
   "id": "f9c87c80-86b9-418d-a005-faa00c58bc98",
   "metadata": {},
   "outputs": [
    {
     "name": "stdout",
     "output_type": "stream",
     "text": [
      "Lasso regression with random search CV \n",
      "---------------------------------\n",
      "R2 Train:  0.7695851869917139\n",
      "95.0 % CI Train = [ 0.039491135613777484 , 1.0 ]\n",
      "\n",
      "R2 Test:  0.8312371965054535\n",
      "95.0 % CI Test = [ 0.8203120237841373 , 1.0 ]\n"
     ]
    }
   ],
   "source": [
    "evaluator(lasso_reg_random,\n",
    "         X_train, t_train, X_test, t_test,\n",
    "         model_name='Lasso regression with random search CV')"
   ]
  },
  {
   "cell_type": "code",
   "execution_count": 25,
   "id": "b6b41043-0d88-4243-8ec3-d4b4ccb66ca8",
   "metadata": {},
   "outputs": [
    {
     "data": {
      "text/plain": [
       "((270, 10), (270,), (58, 10), (58,))"
      ]
     },
     "execution_count": 25,
     "metadata": {},
     "output_type": "execute_result"
    }
   ],
   "source": [
    "# Problem 4\n",
    "from sklearn.metrics import accuracy_score\n",
    "\n",
    "X_train = train_prepared_df[['Electronic accessories', 'Fashion accessories', 'Food and beverages', 'Health and beauty', 'Home and lifestyle', 'Sports and travel', \n",
    "                      'Cash', 'Credit card', 'Ewallet',\n",
    "                      'gross income']].to_numpy()\n",
    "X_train = X_train[np.where(train_prepared_df['Branch C']==1)]\n",
    "t_train = train_prepared_df['Gender'].to_numpy()\n",
    "t_train = t_train[np.where(train_prepared_df['Branch C']==1)]\n",
    "\n",
    "X_test = test_prepared_df[['Electronic accessories', 'Fashion accessories', 'Food and beverages', 'Health and beauty', 'Home and lifestyle', 'Sports and travel', \n",
    "                      'Cash', 'Credit card', 'Ewallet',\n",
    "                      'gross income']].to_numpy()\n",
    "X_test = X_test[np.where(test_prepared_df['Branch C']==1)]\n",
    "t_test = test_prepared_df['Gender'].to_numpy()\n",
    "t_test = t_test[np.where(test_prepared_df['Branch C']==1)]\n",
    "\n",
    "pipeline = joblib.load('Model/pipeline_problem4.pkl')\n",
    "\n",
    "X_train.shape, t_train.shape, X_test.shape, t_test.shape"
   ]
  },
  {
   "cell_type": "code",
   "execution_count": 26,
   "id": "ef87ce19-72cc-4371-bce6-613aaad503ad",
   "metadata": {},
   "outputs": [
    {
     "name": "stdout",
     "output_type": "stream",
     "text": [
      "              precision    recall  f1-score   support\n",
      "\n",
      "         0.0       0.65      0.78      0.71       148\n",
      "         1.0       0.65      0.48      0.55       122\n",
      "\n",
      "    accuracy                           0.65       270\n",
      "   macro avg       0.65      0.63      0.63       270\n",
      "weighted avg       0.65      0.65      0.64       270\n",
      "\n",
      "[[116  32]\n",
      " [ 63  59]]\n"
     ]
    }
   ],
   "source": [
    "from sklearn.metrics import classification_report, confusion_matrix\n",
    "y_train = pipeline.predict(X_train)\n",
    "print(classification_report(t_train, y_train))\n",
    "print(confusion_matrix(t_train, y_train))"
   ]
  },
  {
   "cell_type": "code",
   "execution_count": 27,
   "id": "417ff6a5-95fa-430a-8794-a747c553d7e3",
   "metadata": {},
   "outputs": [
    {
     "name": "stdout",
     "output_type": "stream",
     "text": [
      "              precision    recall  f1-score   support\n",
      "\n",
      "         0.0       0.51      0.70      0.59        30\n",
      "         1.0       0.47      0.29      0.36        28\n",
      "\n",
      "    accuracy                           0.50        58\n",
      "   macro avg       0.49      0.49      0.47        58\n",
      "weighted avg       0.49      0.50      0.48        58\n",
      "\n",
      "[[21  9]\n",
      " [20  8]]\n"
     ]
    }
   ],
   "source": [
    "y_test = pipeline.predict(X_test)\n",
    "print(classification_report(t_test, y_test))\n",
    "print(confusion_matrix(t_test, y_test))"
   ]
  },
  {
   "cell_type": "code",
   "execution_count": 28,
   "id": "acd342a6-8ca2-4c6a-88f2-282672c63f31",
   "metadata": {},
   "outputs": [],
   "source": [
    "coef = pipeline.named_steps['log_reg'].coef_.T"
   ]
  },
  {
   "cell_type": "code",
   "execution_count": 29,
   "id": "99191255-05af-482b-91f0-57d7bff510e7",
   "metadata": {},
   "outputs": [],
   "source": [
    "poly_attributes = ['Intercept']\n",
    "N_attributes = pipeline.named_steps['poly_feature'].powers_.shape[0]\n",
    "attrib_names = np.array(['Electronic accessories', 'Fashion accessories', 'Food and beverages', 'Health and beauty', 'Home and lifestyle', 'Sports and travel', \n",
    "                      'Cash', 'Credit card', 'Ewallet',\n",
    "                      'gross income'])\n",
    "\n",
    "for i in range(1,N_attributes):\n",
    "    temp = attrib_names[pipeline.named_steps['poly_feature'].powers_[i,:]==1]\n",
    "    \n",
    "    if len(temp)==1:\n",
    "        poly_attributes += [temp[0]]\n",
    "    else:\n",
    "        poly_attributes += [temp[0]+' + '+temp[1]]\n",
    "        \n",
    "poly_attributes = np.array(poly_attributes).reshape(-1,1)"
   ]
  },
  {
   "cell_type": "code",
   "execution_count": 30,
   "id": "a592698d-7c46-430c-9279-d1b197d8b4f3",
   "metadata": {},
   "outputs": [
    {
     "data": {
      "text/html": [
       "<div>\n",
       "<style scoped>\n",
       "    .dataframe tbody tr th:only-of-type {\n",
       "        vertical-align: middle;\n",
       "    }\n",
       "\n",
       "    .dataframe tbody tr th {\n",
       "        vertical-align: top;\n",
       "    }\n",
       "\n",
       "    .dataframe thead th {\n",
       "        text-align: right;\n",
       "    }\n",
       "</style>\n",
       "<table border=\"1\" class=\"dataframe\">\n",
       "  <thead>\n",
       "    <tr style=\"text-align: right;\">\n",
       "      <th></th>\n",
       "      <th>Attributes</th>\n",
       "      <th>Coefficients</th>\n",
       "    </tr>\n",
       "  </thead>\n",
       "  <tbody>\n",
       "    <tr>\n",
       "      <th>0</th>\n",
       "      <td>Intercept</td>\n",
       "      <td>-0.00022812778333766362</td>\n",
       "    </tr>\n",
       "    <tr>\n",
       "      <th>1</th>\n",
       "      <td>Electronic accessories</td>\n",
       "      <td>0.10986308350237632</td>\n",
       "    </tr>\n",
       "    <tr>\n",
       "      <th>2</th>\n",
       "      <td>Fashion accessories</td>\n",
       "      <td>0.04583651255682468</td>\n",
       "    </tr>\n",
       "    <tr>\n",
       "      <th>3</th>\n",
       "      <td>Food and beverages</td>\n",
       "      <td>-0.09857876529607838</td>\n",
       "    </tr>\n",
       "    <tr>\n",
       "      <th>4</th>\n",
       "      <td>Health and beauty</td>\n",
       "      <td>0.3868381765247742</td>\n",
       "    </tr>\n",
       "    <tr>\n",
       "      <th>5</th>\n",
       "      <td>Home and lifestyle</td>\n",
       "      <td>-0.15798367894596166</td>\n",
       "    </tr>\n",
       "    <tr>\n",
       "      <th>6</th>\n",
       "      <td>Sports and travel</td>\n",
       "      <td>-0.2862034561252741</td>\n",
       "    </tr>\n",
       "    <tr>\n",
       "      <th>7</th>\n",
       "      <td>Cash</td>\n",
       "      <td>0.01050752128992666</td>\n",
       "    </tr>\n",
       "    <tr>\n",
       "      <th>8</th>\n",
       "      <td>Credit card</td>\n",
       "      <td>-0.12872532030203693</td>\n",
       "    </tr>\n",
       "    <tr>\n",
       "      <th>9</th>\n",
       "      <td>Ewallet</td>\n",
       "      <td>0.11798967122877335</td>\n",
       "    </tr>\n",
       "    <tr>\n",
       "      <th>10</th>\n",
       "      <td>gross income</td>\n",
       "      <td>-0.040952652813298664</td>\n",
       "    </tr>\n",
       "    <tr>\n",
       "      <th>11</th>\n",
       "      <td>Electronic accessories + Fashion accessories</td>\n",
       "      <td>0.0</td>\n",
       "    </tr>\n",
       "    <tr>\n",
       "      <th>12</th>\n",
       "      <td>Electronic accessories + Food and beverages</td>\n",
       "      <td>0.0</td>\n",
       "    </tr>\n",
       "    <tr>\n",
       "      <th>13</th>\n",
       "      <td>Electronic accessories + Health and beauty</td>\n",
       "      <td>0.0</td>\n",
       "    </tr>\n",
       "    <tr>\n",
       "      <th>14</th>\n",
       "      <td>Electronic accessories + Home and lifestyle</td>\n",
       "      <td>0.0</td>\n",
       "    </tr>\n",
       "    <tr>\n",
       "      <th>15</th>\n",
       "      <td>Electronic accessories + Sports and travel</td>\n",
       "      <td>0.0</td>\n",
       "    </tr>\n",
       "    <tr>\n",
       "      <th>16</th>\n",
       "      <td>Electronic accessories + Cash</td>\n",
       "      <td>-0.33774594650406103</td>\n",
       "    </tr>\n",
       "    <tr>\n",
       "      <th>17</th>\n",
       "      <td>Electronic accessories + Credit card</td>\n",
       "      <td>-0.1930008740058202</td>\n",
       "    </tr>\n",
       "    <tr>\n",
       "      <th>18</th>\n",
       "      <td>Electronic accessories + Ewallet</td>\n",
       "      <td>0.6406099040122583</td>\n",
       "    </tr>\n",
       "    <tr>\n",
       "      <th>19</th>\n",
       "      <td>Electronic accessories + gross income</td>\n",
       "      <td>0.09461067863661445</td>\n",
       "    </tr>\n",
       "    <tr>\n",
       "      <th>20</th>\n",
       "      <td>Fashion accessories + Food and beverages</td>\n",
       "      <td>0.0</td>\n",
       "    </tr>\n",
       "    <tr>\n",
       "      <th>21</th>\n",
       "      <td>Fashion accessories + Health and beauty</td>\n",
       "      <td>0.0</td>\n",
       "    </tr>\n",
       "    <tr>\n",
       "      <th>22</th>\n",
       "      <td>Fashion accessories + Home and lifestyle</td>\n",
       "      <td>0.0</td>\n",
       "    </tr>\n",
       "    <tr>\n",
       "      <th>23</th>\n",
       "      <td>Fashion accessories + Sports and travel</td>\n",
       "      <td>0.0</td>\n",
       "    </tr>\n",
       "    <tr>\n",
       "      <th>24</th>\n",
       "      <td>Fashion accessories + Cash</td>\n",
       "      <td>0.8056502557506118</td>\n",
       "    </tr>\n",
       "    <tr>\n",
       "      <th>25</th>\n",
       "      <td>Fashion accessories + Credit card</td>\n",
       "      <td>-0.32895495960267934</td>\n",
       "    </tr>\n",
       "    <tr>\n",
       "      <th>26</th>\n",
       "      <td>Fashion accessories + Ewallet</td>\n",
       "      <td>-0.4308587835911089</td>\n",
       "    </tr>\n",
       "    <tr>\n",
       "      <th>27</th>\n",
       "      <td>Fashion accessories + gross income</td>\n",
       "      <td>0.09392623376444224</td>\n",
       "    </tr>\n",
       "    <tr>\n",
       "      <th>28</th>\n",
       "      <td>Food and beverages + Health and beauty</td>\n",
       "      <td>0.0</td>\n",
       "    </tr>\n",
       "    <tr>\n",
       "      <th>29</th>\n",
       "      <td>Food and beverages + Home and lifestyle</td>\n",
       "      <td>0.0</td>\n",
       "    </tr>\n",
       "    <tr>\n",
       "      <th>30</th>\n",
       "      <td>Food and beverages + Sports and travel</td>\n",
       "      <td>0.0</td>\n",
       "    </tr>\n",
       "    <tr>\n",
       "      <th>31</th>\n",
       "      <td>Food and beverages + Cash</td>\n",
       "      <td>0.016353487126942182</td>\n",
       "    </tr>\n",
       "    <tr>\n",
       "      <th>32</th>\n",
       "      <td>Food and beverages + Credit card</td>\n",
       "      <td>-0.24757547709408956</td>\n",
       "    </tr>\n",
       "    <tr>\n",
       "      <th>33</th>\n",
       "      <td>Food and beverages + Ewallet</td>\n",
       "      <td>0.1326432246710691</td>\n",
       "    </tr>\n",
       "    <tr>\n",
       "      <th>34</th>\n",
       "      <td>Food and beverages + gross income</td>\n",
       "      <td>-0.19345355901707356</td>\n",
       "    </tr>\n",
       "    <tr>\n",
       "      <th>35</th>\n",
       "      <td>Health and beauty + Home and lifestyle</td>\n",
       "      <td>0.0</td>\n",
       "    </tr>\n",
       "    <tr>\n",
       "      <th>36</th>\n",
       "      <td>Health and beauty + Sports and travel</td>\n",
       "      <td>0.0</td>\n",
       "    </tr>\n",
       "    <tr>\n",
       "      <th>37</th>\n",
       "      <td>Health and beauty + Cash</td>\n",
       "      <td>-0.028300830426980096</td>\n",
       "    </tr>\n",
       "    <tr>\n",
       "      <th>38</th>\n",
       "      <td>Health and beauty + Credit card</td>\n",
       "      <td>0.7933947252166321</td>\n",
       "    </tr>\n",
       "    <tr>\n",
       "      <th>39</th>\n",
       "      <td>Health and beauty + Ewallet</td>\n",
       "      <td>-0.37825571826487797</td>\n",
       "    </tr>\n",
       "    <tr>\n",
       "      <th>40</th>\n",
       "      <td>Health and beauty + gross income</td>\n",
       "      <td>0.30302087239189457</td>\n",
       "    </tr>\n",
       "    <tr>\n",
       "      <th>41</th>\n",
       "      <td>Home and lifestyle + Sports and travel</td>\n",
       "      <td>0.0</td>\n",
       "    </tr>\n",
       "    <tr>\n",
       "      <th>42</th>\n",
       "      <td>Home and lifestyle + Cash</td>\n",
       "      <td>-0.4323452126436367</td>\n",
       "    </tr>\n",
       "    <tr>\n",
       "      <th>43</th>\n",
       "      <td>Home and lifestyle + Credit card</td>\n",
       "      <td>-0.01366845572434058</td>\n",
       "    </tr>\n",
       "    <tr>\n",
       "      <th>44</th>\n",
       "      <td>Home and lifestyle + Ewallet</td>\n",
       "      <td>0.2880299894220162</td>\n",
       "    </tr>\n",
       "    <tr>\n",
       "      <th>45</th>\n",
       "      <td>Home and lifestyle + gross income</td>\n",
       "      <td>-0.05053620878235351</td>\n",
       "    </tr>\n",
       "    <tr>\n",
       "      <th>46</th>\n",
       "      <td>Sports and travel + Cash</td>\n",
       "      <td>-0.013104232012949791</td>\n",
       "    </tr>\n",
       "    <tr>\n",
       "      <th>47</th>\n",
       "      <td>Sports and travel + Credit card</td>\n",
       "      <td>-0.1389202790917406</td>\n",
       "    </tr>\n",
       "    <tr>\n",
       "      <th>48</th>\n",
       "      <td>Sports and travel + Ewallet</td>\n",
       "      <td>-0.13417894502058364</td>\n",
       "    </tr>\n",
       "    <tr>\n",
       "      <th>49</th>\n",
       "      <td>Sports and travel + gross income</td>\n",
       "      <td>-0.2885206698068224</td>\n",
       "    </tr>\n",
       "    <tr>\n",
       "      <th>50</th>\n",
       "      <td>Cash + Credit card</td>\n",
       "      <td>0.0</td>\n",
       "    </tr>\n",
       "    <tr>\n",
       "      <th>51</th>\n",
       "      <td>Cash + Ewallet</td>\n",
       "      <td>0.0</td>\n",
       "    </tr>\n",
       "    <tr>\n",
       "      <th>52</th>\n",
       "      <td>Cash + gross income</td>\n",
       "      <td>-0.08890940080548491</td>\n",
       "    </tr>\n",
       "    <tr>\n",
       "      <th>53</th>\n",
       "      <td>Credit card + Ewallet</td>\n",
       "      <td>0.0</td>\n",
       "    </tr>\n",
       "    <tr>\n",
       "      <th>54</th>\n",
       "      <td>Credit card + gross income</td>\n",
       "      <td>-0.0851888826987359</td>\n",
       "    </tr>\n",
       "    <tr>\n",
       "      <th>55</th>\n",
       "      <td>Ewallet + gross income</td>\n",
       "      <td>0.13314563069092167</td>\n",
       "    </tr>\n",
       "  </tbody>\n",
       "</table>\n",
       "</div>"
      ],
      "text/plain": [
       "                                      Attributes             Coefficients\n",
       "0                                      Intercept  -0.00022812778333766362\n",
       "1                         Electronic accessories      0.10986308350237632\n",
       "2                            Fashion accessories      0.04583651255682468\n",
       "3                             Food and beverages     -0.09857876529607838\n",
       "4                              Health and beauty       0.3868381765247742\n",
       "5                             Home and lifestyle     -0.15798367894596166\n",
       "6                              Sports and travel      -0.2862034561252741\n",
       "7                                           Cash      0.01050752128992666\n",
       "8                                    Credit card     -0.12872532030203693\n",
       "9                                        Ewallet      0.11798967122877335\n",
       "10                                  gross income    -0.040952652813298664\n",
       "11  Electronic accessories + Fashion accessories                      0.0\n",
       "12   Electronic accessories + Food and beverages                      0.0\n",
       "13    Electronic accessories + Health and beauty                      0.0\n",
       "14   Electronic accessories + Home and lifestyle                      0.0\n",
       "15    Electronic accessories + Sports and travel                      0.0\n",
       "16                 Electronic accessories + Cash     -0.33774594650406103\n",
       "17          Electronic accessories + Credit card      -0.1930008740058202\n",
       "18              Electronic accessories + Ewallet       0.6406099040122583\n",
       "19         Electronic accessories + gross income      0.09461067863661445\n",
       "20      Fashion accessories + Food and beverages                      0.0\n",
       "21       Fashion accessories + Health and beauty                      0.0\n",
       "22      Fashion accessories + Home and lifestyle                      0.0\n",
       "23       Fashion accessories + Sports and travel                      0.0\n",
       "24                    Fashion accessories + Cash       0.8056502557506118\n",
       "25             Fashion accessories + Credit card     -0.32895495960267934\n",
       "26                 Fashion accessories + Ewallet      -0.4308587835911089\n",
       "27            Fashion accessories + gross income      0.09392623376444224\n",
       "28        Food and beverages + Health and beauty                      0.0\n",
       "29       Food and beverages + Home and lifestyle                      0.0\n",
       "30        Food and beverages + Sports and travel                      0.0\n",
       "31                     Food and beverages + Cash     0.016353487126942182\n",
       "32              Food and beverages + Credit card     -0.24757547709408956\n",
       "33                  Food and beverages + Ewallet       0.1326432246710691\n",
       "34             Food and beverages + gross income     -0.19345355901707356\n",
       "35        Health and beauty + Home and lifestyle                      0.0\n",
       "36         Health and beauty + Sports and travel                      0.0\n",
       "37                      Health and beauty + Cash    -0.028300830426980096\n",
       "38               Health and beauty + Credit card       0.7933947252166321\n",
       "39                   Health and beauty + Ewallet     -0.37825571826487797\n",
       "40              Health and beauty + gross income      0.30302087239189457\n",
       "41        Home and lifestyle + Sports and travel                      0.0\n",
       "42                     Home and lifestyle + Cash      -0.4323452126436367\n",
       "43              Home and lifestyle + Credit card     -0.01366845572434058\n",
       "44                  Home and lifestyle + Ewallet       0.2880299894220162\n",
       "45             Home and lifestyle + gross income     -0.05053620878235351\n",
       "46                      Sports and travel + Cash    -0.013104232012949791\n",
       "47               Sports and travel + Credit card      -0.1389202790917406\n",
       "48                   Sports and travel + Ewallet     -0.13417894502058364\n",
       "49              Sports and travel + gross income      -0.2885206698068224\n",
       "50                            Cash + Credit card                      0.0\n",
       "51                                Cash + Ewallet                      0.0\n",
       "52                           Cash + gross income     -0.08890940080548491\n",
       "53                         Credit card + Ewallet                      0.0\n",
       "54                    Credit card + gross income      -0.0851888826987359\n",
       "55                        Ewallet + gross income      0.13314563069092167"
      ]
     },
     "execution_count": 30,
     "metadata": {},
     "output_type": "execute_result"
    }
   ],
   "source": [
    "pd.DataFrame(np.hstack((poly_attributes,coef)), columns=['Attributes', 'Coefficients'])"
   ]
  },
  {
   "cell_type": "code",
   "execution_count": 31,
   "id": "1856662e-06f4-4d61-9d7f-3b83a6663107",
   "metadata": {},
   "outputs": [
    {
     "data": {
      "text/plain": [
       "array(['Electronic accessories + Fashion accessories',\n",
       "       'Electronic accessories + Food and beverages',\n",
       "       'Electronic accessories + Health and beauty',\n",
       "       'Electronic accessories + Home and lifestyle',\n",
       "       'Electronic accessories + Sports and travel',\n",
       "       'Fashion accessories + Food and beverages',\n",
       "       'Fashion accessories + Health and beauty',\n",
       "       'Fashion accessories + Home and lifestyle',\n",
       "       'Fashion accessories + Sports and travel',\n",
       "       'Food and beverages + Health and beauty',\n",
       "       'Food and beverages + Home and lifestyle',\n",
       "       'Food and beverages + Sports and travel',\n",
       "       'Health and beauty + Home and lifestyle',\n",
       "       'Health and beauty + Sports and travel',\n",
       "       'Home and lifestyle + Sports and travel', 'Cash + Credit card',\n",
       "       'Cash + Ewallet', 'Credit card + Ewallet'], dtype='<U44')"
      ]
     },
     "execution_count": 31,
     "metadata": {},
     "output_type": "execute_result"
    }
   ],
   "source": [
    "useless_feature = poly_attributes[np.where(coef==0)]\n",
    "useless_feature"
   ]
  },
  {
   "cell_type": "code",
   "execution_count": 32,
   "id": "ffc1c6e2-3271-4e6b-988f-8d481d075444",
   "metadata": {
    "tags": []
   },
   "outputs": [
    {
     "data": {
      "text/plain": [
       "Text(0, 0.5, 'Parameters values')"
      ]
     },
     "execution_count": 32,
     "metadata": {},
     "output_type": "execute_result"
    },
    {
     "data": {
      "image/png": "[encoded data removed]",
      "text/plain": [
       "<Figure size 864x576 with 1 Axes>"
      ]
     },
     "metadata": {
      "needs_background": "light"
     },
     "output_type": "display_data"
    }
   ],
   "source": [
    "plt.figure(figsize=(12,8))\n",
    "plt.stem(coef)\n",
    "plt.xlabel('Attribute Index')\n",
    "plt.ylabel('Parameters values')\n",
    "# plt.xticks(np.arange(len(coef)), poly_attributes)"
   ]
  },
  {
   "cell_type": "code",
   "execution_count": 33,
   "id": "3104284d-0758-4ec8-8b01-a91a2fdefc9a",
   "metadata": {},
   "outputs": [
    {
     "name": "stdout",
     "output_type": "stream",
     "text": [
      "The most informative attribute is: ['Fashion accessories + Cash']\n"
     ]
    }
   ],
   "source": [
    "print('The most informative attribute is:', poly_attributes[np.argmax(abs(coef))])"
   ]
  },
  {
   "cell_type": "code",
   "execution_count": 34,
   "id": "5d09b913-3092-4916-917b-2a3bf280d398",
   "metadata": {},
   "outputs": [
    {
     "data": {
      "text/plain": [
       "((270, 12), (270,), (58, 12), (58,))"
      ]
     },
     "execution_count": 34,
     "metadata": {},
     "output_type": "execute_result"
    }
   ],
   "source": [
    "# Problem 5\n",
    "X_train = train_prepared_df[['Gender', 'Monday', 'Tuesday', 'Wednesday', 'Thursday', 'Friday', 'Saturday', 'Sunday', 'Morning', 'Afternoon', 'Evening', 'Night']].to_numpy()\n",
    "X_train = X_train[np.where(train_prepared_df['Branch C']==1)]\n",
    "t_train = train_prepared_df['Customer type'].to_numpy()\n",
    "t_train = t_train[np.where(train_prepared_df['Branch C']==1)]\n",
    "\n",
    "X_test = test_prepared_df[['Gender', 'Monday', 'Tuesday', 'Wednesday', 'Thursday', 'Friday', 'Saturday', 'Sunday', 'Morning', 'Afternoon', 'Evening', 'Night']].to_numpy()\n",
    "X_test = X_test[np.where(test_prepared_df['Branch C']==1)]\n",
    "t_test = test_prepared_df['Customer type'].to_numpy()\n",
    "t_test = t_test[np.where(test_prepared_df['Branch C']==1)]\n",
    "\n",
    "pipeline = joblib.load('Model/pipeline_problem5.pkl')\n",
    "\n",
    "X_train.shape, t_train.shape, X_test.shape, t_test.shape"
   ]
  },
  {
   "cell_type": "code",
   "execution_count": 35,
   "id": "33e504d2-963a-48ec-b9ef-aefea36d2e00",
   "metadata": {},
   "outputs": [
    {
     "name": "stdout",
     "output_type": "stream",
     "text": [
      "              precision    recall  f1-score   support\n",
      "\n",
      "         0.0       0.68      0.63      0.65       137\n",
      "         1.0       0.65      0.70      0.67       133\n",
      "\n",
      "    accuracy                           0.66       270\n",
      "   macro avg       0.66      0.66      0.66       270\n",
      "weighted avg       0.66      0.66      0.66       270\n",
      "\n",
      "[[86 51]\n",
      " [40 93]]\n"
     ]
    }
   ],
   "source": [
    "y_train = pipeline.predict(X_train)\n",
    "print(classification_report(t_train, y_train))\n",
    "print(confusion_matrix(t_train, y_train))"
   ]
  },
  {
   "cell_type": "code",
   "execution_count": 36,
   "id": "27e5fcac-9ab9-403a-96a8-3b46ea19d447",
   "metadata": {},
   "outputs": [
    {
     "name": "stdout",
     "output_type": "stream",
     "text": [
      "              precision    recall  f1-score   support\n",
      "\n",
      "         0.0       0.40      0.31      0.35        32\n",
      "         1.0       0.33      0.42      0.37        26\n",
      "\n",
      "    accuracy                           0.36        58\n",
      "   macro avg       0.37      0.37      0.36        58\n",
      "weighted avg       0.37      0.36      0.36        58\n",
      "\n",
      "[[10 22]\n",
      " [15 11]]\n"
     ]
    }
   ],
   "source": [
    "y_test = pipeline.predict(X_test)\n",
    "print(classification_report(t_test, y_test))\n",
    "print(confusion_matrix(t_test, y_test))"
   ]
  },
  {
   "cell_type": "code",
   "execution_count": 37,
   "id": "fd908d43-b989-4914-ad77-b80ae6ec7f65",
   "metadata": {},
   "outputs": [],
   "source": [
    "coef = pipeline.named_steps['log_reg'].coef_\n",
    "coef = coef.reshape(79,1)"
   ]
  },
  {
   "cell_type": "code",
   "execution_count": 38,
   "id": "613114a8-9287-400c-ba39-1ac43b190407",
   "metadata": {},
   "outputs": [
    {
     "data": {
      "text/plain": [
       "(79, 1)"
      ]
     },
     "execution_count": 38,
     "metadata": {},
     "output_type": "execute_result"
    }
   ],
   "source": [
    "poly_attributes = ['Intercept']\n",
    "N_attributes = pipeline.named_steps['poly_feature'].powers_.shape[0]\n",
    "attrib_names = np.array(['Gender', 'Monday', 'Tuesday', 'Wednesday', 'Thursday', 'Friday', 'Saturday', 'Sunday', 'Morning', 'Afternoon', 'Evening', 'Night'])\n",
    "\n",
    "for i in range(1,N_attributes):\n",
    "    temp = attrib_names[pipeline.named_steps['poly_feature'].powers_[i,:]==1]\n",
    "    \n",
    "    if len(temp)==1:\n",
    "        poly_attributes += [temp[0]]\n",
    "    else:\n",
    "        poly_attributes += [temp[0]+' + '+temp[1]]\n",
    "        \n",
    "poly_attributes = np.array(poly_attributes).reshape(-1,1)\n",
    "\n",
    "poly_attributes.shape"
   ]
  },
  {
   "cell_type": "code",
   "execution_count": 39,
   "id": "9df7b2a8-c268-49f9-8555-8353bcc72d99",
   "metadata": {},
   "outputs": [
    {
     "data": {
      "text/html": [
       "<div>\n",
       "<style scoped>\n",
       "    .dataframe tbody tr th:only-of-type {\n",
       "        vertical-align: middle;\n",
       "    }\n",
       "\n",
       "    .dataframe tbody tr th {\n",
       "        vertical-align: top;\n",
       "    }\n",
       "\n",
       "    .dataframe thead th {\n",
       "        text-align: right;\n",
       "    }\n",
       "</style>\n",
       "<table border=\"1\" class=\"dataframe\">\n",
       "  <thead>\n",
       "    <tr style=\"text-align: right;\">\n",
       "      <th></th>\n",
       "      <th>Attributes</th>\n",
       "      <th>Coefficients</th>\n",
       "    </tr>\n",
       "  </thead>\n",
       "  <tbody>\n",
       "    <tr>\n",
       "      <th>0</th>\n",
       "      <td>Intercept</td>\n",
       "      <td>-9.456744250230026e-05</td>\n",
       "    </tr>\n",
       "    <tr>\n",
       "      <th>1</th>\n",
       "      <td>Gender</td>\n",
       "      <td>0.18531731597749848</td>\n",
       "    </tr>\n",
       "    <tr>\n",
       "      <th>2</th>\n",
       "      <td>Monday</td>\n",
       "      <td>0.12023982722947879</td>\n",
       "    </tr>\n",
       "    <tr>\n",
       "      <th>3</th>\n",
       "      <td>Tuesday</td>\n",
       "      <td>-0.14602727014013447</td>\n",
       "    </tr>\n",
       "    <tr>\n",
       "      <th>4</th>\n",
       "      <td>Wednesday</td>\n",
       "      <td>0.20529023045527556</td>\n",
       "    </tr>\n",
       "    <tr>\n",
       "      <th>...</th>\n",
       "      <td>...</td>\n",
       "      <td>...</td>\n",
       "    </tr>\n",
       "    <tr>\n",
       "      <th>74</th>\n",
       "      <td>Morning + Evening</td>\n",
       "      <td>0.0</td>\n",
       "    </tr>\n",
       "    <tr>\n",
       "      <th>75</th>\n",
       "      <td>Morning + Night</td>\n",
       "      <td>0.0</td>\n",
       "    </tr>\n",
       "    <tr>\n",
       "      <th>76</th>\n",
       "      <td>Afternoon + Evening</td>\n",
       "      <td>0.0</td>\n",
       "    </tr>\n",
       "    <tr>\n",
       "      <th>77</th>\n",
       "      <td>Afternoon + Night</td>\n",
       "      <td>0.0</td>\n",
       "    </tr>\n",
       "    <tr>\n",
       "      <th>78</th>\n",
       "      <td>Evening + Night</td>\n",
       "      <td>0.0</td>\n",
       "    </tr>\n",
       "  </tbody>\n",
       "</table>\n",
       "<p>79 rows × 2 columns</p>\n",
       "</div>"
      ],
      "text/plain": [
       "             Attributes            Coefficients\n",
       "0             Intercept  -9.456744250230026e-05\n",
       "1                Gender     0.18531731597749848\n",
       "2                Monday     0.12023982722947879\n",
       "3               Tuesday    -0.14602727014013447\n",
       "4             Wednesday     0.20529023045527556\n",
       "..                  ...                     ...\n",
       "74    Morning + Evening                     0.0\n",
       "75      Morning + Night                     0.0\n",
       "76  Afternoon + Evening                     0.0\n",
       "77    Afternoon + Night                     0.0\n",
       "78      Evening + Night                     0.0\n",
       "\n",
       "[79 rows x 2 columns]"
      ]
     },
     "execution_count": 39,
     "metadata": {},
     "output_type": "execute_result"
    }
   ],
   "source": [
    "pd.DataFrame(np.hstack((poly_attributes,coef)), columns=['Attributes', 'Coefficients'])"
   ]
  },
  {
   "cell_type": "code",
   "execution_count": 40,
   "id": "13c1109f-6495-4f63-816d-d3e334033e3f",
   "metadata": {},
   "outputs": [
    {
     "data": {
      "text/plain": [
       "array(['Monday + Tuesday', 'Monday + Wednesday', 'Monday + Thursday',\n",
       "       'Monday + Friday', 'Monday + Saturday', 'Monday + Sunday',\n",
       "       'Tuesday + Wednesday', 'Tuesday + Thursday', 'Tuesday + Friday',\n",
       "       'Tuesday + Saturday', 'Tuesday + Sunday', 'Wednesday + Thursday',\n",
       "       'Wednesday + Friday', 'Wednesday + Saturday', 'Wednesday + Sunday',\n",
       "       'Thursday + Friday', 'Thursday + Saturday', 'Thursday + Sunday',\n",
       "       'Friday + Saturday', 'Friday + Sunday', 'Saturday + Sunday',\n",
       "       'Morning + Afternoon', 'Morning + Evening', 'Morning + Night',\n",
       "       'Afternoon + Evening', 'Afternoon + Night', 'Evening + Night'],\n",
       "      dtype='<U21')"
      ]
     },
     "execution_count": 40,
     "metadata": {},
     "output_type": "execute_result"
    }
   ],
   "source": [
    "useless_feature = poly_attributes[np.where(coef==0)]\n",
    "useless_feature"
   ]
  },
  {
   "cell_type": "code",
   "execution_count": 41,
   "id": "3dd53d72-a75f-4789-ab6e-5ddd6eb2f6a2",
   "metadata": {},
   "outputs": [
    {
     "data": {
      "text/plain": [
       "Text(0, 0.5, 'Parameters values')"
      ]
     },
     "execution_count": 41,
     "metadata": {},
     "output_type": "execute_result"
    },
    {
     "data": {
      "image/png": "[encoded data removed]",
      "text/plain": [
       "<Figure size 864x576 with 1 Axes>"
      ]
     },
     "metadata": {
      "needs_background": "light"
     },
     "output_type": "display_data"
    }
   ],
   "source": [
    "plt.figure(figsize=(12,8))\n",
    "plt.stem(coef)\n",
    "plt.xlabel('Attribute Index')\n",
    "plt.ylabel('Parameters values')\n",
    "# plt.xticks(np.arange(len(coef)), poly_attributes)"
   ]
  },
  {
   "cell_type": "code",
   "execution_count": 42,
   "id": "ddb83298-84ba-474d-bb38-b4156da67c06",
   "metadata": {},
   "outputs": [
    {
     "name": "stdout",
     "output_type": "stream",
     "text": [
      "The most informative attribute is: ['Tuesday + Evening']\n"
     ]
    }
   ],
   "source": [
    "print('The most informative attribute is:', poly_attributes[np.argmax(abs(coef))])"
   ]
  },
  {
   "cell_type": "code",
   "execution_count": 43,
   "id": "934e2b30-c8b5-4a7c-a2d0-7de8f02fa8d5",
   "metadata": {},
   "outputs": [
    {
     "data": {
      "text/plain": [
       "((800, 27), (800,))"
      ]
     },
     "execution_count": 43,
     "metadata": {},
     "output_type": "execute_result"
    }
   ],
   "source": [
    "# Problem 6\n",
    "tree = joblib.load('Model/tree_problem6.pkl')\n",
    "random_forest = joblib.load('Model/random_forest_problem6.pkl')\n",
    "log_reg = joblib.load('Model/log_reg_problem6.pkl')\n",
    "\n",
    "X_train = pd.read_csv('Problem 6 data/X_train.csv').to_numpy()\n",
    "X_test = pd.read_csv('Problem 6 data/X_test.csv').to_numpy()\n",
    "t_train = pd.read_csv('Problem 6 data/t_train.csv').to_numpy().ravel()\n",
    "t_test = pd.read_csv('Problem 6 data/t_test.csv').to_numpy().ravel()\n",
    "\n",
    "X_train.shape, t_train.shape"
   ]
  },
  {
   "cell_type": "code",
   "execution_count": 44,
   "id": "39f0028f-f5b4-43be-95f8-c197bf03cc61",
   "metadata": {},
   "outputs": [],
   "source": [
    "from sklearn.model_selection import cross_val_score\n",
    "from sklearn.metrics import confusion_matrix\n",
    "\n",
    "## Define the function to do the evaluate\n",
    "def classifier_evaluator(estimator, X_train, t_train, X_test, t_test, model_name=None, confidence=0.95):\n",
    "\n",
    "    train_scores = cross_val_score(estimator, \n",
    "                                   X_train, t_train,\n",
    "                                   cv=10,\n",
    "                                   scoring='accuracy')\n",
    "   \n",
    "    train_accuracy = accuracy_score(t_train, estimator.predict(X_train))\n",
    "    \n",
    "    train_ci = stats.t.interval(confidence, len(train_scores)-1,\n",
    "                                loc=train_scores.mean(),\n",
    "                                scale=train_scores.std(ddof=1)/np.sqrt(len(train_scores)))\n",
    "                              \n",
    "    test_scores = cross_val_score(estimator, \n",
    "                                  X_test, t_test,\n",
    "                                  cv=10,\n",
    "                                  scoring='accuracy')\n",
    "   \n",
    "    test_accuracy = accuracy_score(t_test, estimator.predict(X_test))\n",
    "    \n",
    "    test_ci = stats.t.interval(confidence, len(test_scores)-1,\n",
    "                               loc=test_scores.mean(),\n",
    "                               scale=test_scores.std(ddof=1)/np.sqrt(len(test_scores)))\n",
    "                               \n",
    "    if model_name:\n",
    "        print(model_name,'\\n---------------------------------')\n",
    "    print('Accuracy Train: ', train_accuracy)\n",
    "    print(confidence*100,'% CI Train = ', train_ci)\n",
    "    \n",
    "    print('Accuracy Test: ', test_accuracy)\n",
    "    print(confidence*100,'% CI Test = ', test_ci)\n",
    "    print('---------------------------------')\n",
    "    print('Confusion matrix for training:\\n' , confusion_matrix(t_train, estimator.predict(X_train)))\n",
    "    print('Confusion matrix for test:\\n' , confusion_matrix(t_test, estimator.predict(X_test)))"
   ]
  },
  {
   "cell_type": "code",
   "execution_count": 45,
   "id": "0cc3a980-bc09-4142-be70-3ac4afa8e1a0",
   "metadata": {},
   "outputs": [
    {
     "data": {
      "text/plain": [
       "(200,)"
      ]
     },
     "execution_count": 45,
     "metadata": {},
     "output_type": "execute_result"
    }
   ],
   "source": [
    "y_test = log_reg.predict(X_test)\n",
    "y_test.shape"
   ]
  },
  {
   "cell_type": "code",
   "execution_count": 46,
   "id": "2f3fd9fe-05a1-4377-8391-7ad4fe920d34",
   "metadata": {},
   "outputs": [
    {
     "name": "stdout",
     "output_type": "stream",
     "text": [
      "Logistic Regression \n",
      "---------------------------------\n",
      "Accuracy Train:  0.23625\n",
      "95.0 % CI Train =  (0.13588177967077045, 0.15661822032922953)\n",
      "Accuracy Test:  0.115\n",
      "95.0 % CI Test =  (0.05497049262821761, 0.19502950737178237)\n",
      "---------------------------------\n",
      "Confusion matrix for training:\n",
      " [[19 21 12 10 13 19  6]\n",
      " [ 8 37 21 14 17 20  9]\n",
      " [16 15 35  7  7 22 12]\n",
      " [10 23 15 16  8 28 11]\n",
      " [14 27 16  5 20 18 11]\n",
      " [ 8 29 20  8 13 38 15]\n",
      " [12 13 16  8 12 22 24]]\n",
      "Confusion matrix for test:\n",
      " [[1 4 4 2 3 9 2]\n",
      " [4 5 3 1 5 7 7]\n",
      " [4 5 5 4 5 4 2]\n",
      " [1 5 3 3 5 6 4]\n",
      " [3 4 6 2 2 8 3]\n",
      " [2 8 3 3 4 6 7]\n",
      " [3 6 4 2 4 6 1]]\n"
     ]
    }
   ],
   "source": [
    "## For Logestic Regression Classifier\n",
    "classifier_evaluator(log_reg, X_train, t_train, X_test, t_test, model_name='Logistic Regression')"
   ]
  },
  {
   "cell_type": "code",
   "execution_count": 47,
   "id": "5ac291bb-afe4-4655-ae46-284cb19b1cbf",
   "metadata": {},
   "outputs": [
    {
     "name": "stdout",
     "output_type": "stream",
     "text": [
      "Tree \n",
      "---------------------------------\n",
      "Accuracy Train:  0.4175\n",
      "95.0 % CI Train =  (0.1504539956640422, 0.2020460043359578)\n",
      "Accuracy Test:  0.15\n",
      "95.0 % CI Test =  (0.06213528511777025, 0.19786471488222976)\n",
      "---------------------------------\n",
      "Confusion matrix for training:\n",
      " [[52 13 12  4  2  8  9]\n",
      " [15 66 13  9  2 12  9]\n",
      " [15 24 57  3  3  5  7]\n",
      " [12 17 16 41  2 14  9]\n",
      " [14 11 19 14 31  6 16]\n",
      " [15 18 21 10  9 44 14]\n",
      " [14 14 15 12  3  6 43]]\n",
      "Confusion matrix for test:\n",
      " [[ 6  3  2  3  2  6  3]\n",
      " [ 8  8  8  1  0  4  3]\n",
      " [ 6  6  6  2  0  4  5]\n",
      " [ 8  3  3  4  2  1  6]\n",
      " [ 5  7  6  3  1  3  3]\n",
      " [ 4 10  6  4  1  2  6]\n",
      " [ 5  6  6  3  3  0  3]]\n"
     ]
    }
   ],
   "source": [
    "## For Decision Tree\n",
    "classifier_evaluator(tree, X_train, t_train, X_test, t_test, model_name='Tree')"
   ]
  },
  {
   "cell_type": "code",
   "execution_count": 48,
   "id": "651aea07-2266-42c6-a9b6-a72bbd6fccc9",
   "metadata": {},
   "outputs": [
    {
     "name": "stdout",
     "output_type": "stream",
     "text": [
      "Random Forest \n",
      "---------------------------------\n",
      "Accuracy Train:  1.0\n",
      "95.0 % CI Train =  (0.1196160773511857, 0.15538392264881432)\n",
      "Accuracy Test:  0.14\n",
      "95.0 % CI Test =  (0.05943142001492465, 0.13056857998507534)\n",
      "---------------------------------\n",
      "Confusion matrix for training:\n",
      " [[100   0   0   0   0   0   0]\n",
      " [  0 126   0   0   0   0   0]\n",
      " [  0   0 114   0   0   0   0]\n",
      " [  0   0   0 111   0   0   0]\n",
      " [  0   0   0   0 111   0   0]\n",
      " [  0   0   0   0   0 131   0]\n",
      " [  0   0   0   0   0   0 107]]\n",
      "Confusion matrix for test:\n",
      " [[3 4 4 3 3 6 2]\n",
      " [3 5 9 4 6 4 1]\n",
      " [3 4 6 3 4 4 5]\n",
      " [5 8 4 3 0 2 5]\n",
      " [6 4 7 1 3 5 2]\n",
      " [5 6 6 4 4 5 3]\n",
      " [2 5 6 4 4 2 3]]\n"
     ]
    }
   ],
   "source": [
    "## For Random Forest\n",
    "classifier_evaluator(random_forest, X_train, t_train, X_test, t_test, model_name='Random Forest')"
   ]
  },
  {
   "cell_type": "code",
   "execution_count": null,
   "id": "303c698e-4cf5-49c0-a51c-89aaa6bfc18d",
   "metadata": {},
   "outputs": [],
   "source": []
  }
 ],
 "metadata": {
  "kernelspec": {
   "display_name": "UFRC Python-3.10",
   "language": "python",
   "name": "python3-3.10-ufrc"
  },
  "language_info": {
   "codemirror_mode": {
    "name": "ipython",
    "version": 3
   },
   "file_extension": ".py",
   "mimetype": "text/x-python",
   "name": "python",
   "nbconvert_exporter": "python",
   "pygments_lexer": "ipython3",
   "version": "3.10.5"
  }
 },
 "nbformat": 4,
 "nbformat_minor": 5
}
